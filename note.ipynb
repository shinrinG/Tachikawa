{
 "cells": [
  {
   "cell_type": "markdown",
   "metadata": {},
   "source": [
    "### Code test"
   ]
  },
  {
   "cell_type": "code",
   "execution_count": 2,
   "metadata": {},
   "outputs": [
    {
     "name": "stdout",
     "output_type": "stream",
     "text": [
      "[0 0 1 0 0 1]\n"
     ]
    }
   ],
   "source": [
    "import numpy as np\r\n",
    "s = np.array([0,0,1,0,0,1])\r\n",
    "print(s)\r\n",
    "ndx = np.where(s==0)[0]\r\n",
    "ndx\r\n"
   ]
  },
  {
   "cell_type": "code",
   "execution_count": 1,
   "metadata": {},
   "outputs": [
    {
     "name": "stdout",
     "output_type": "stream",
     "text": [
      "<class 'int'>\n"
     ]
    },
    {
     "data": {
      "image/png": "[encoded data removed]",
      "text/plain": [
       "<Figure size 432x288 with 1 Axes>"
      ]
     },
     "metadata": {
      "needs_background": "light"
     },
     "output_type": "display_data"
    }
   ],
   "source": [
    "from proc.generater import *\r\n",
    "import matplotlib.pyplot as plt\r\n",
    "\r\n",
    "GEN_MU = 34\r\n",
    "GEN_SIGMA = 1\r\n",
    "GEN_LEN = 64\r\n",
    "GEN_COEF = 1\r\n",
    "\r\n",
    "gen_gauss = ShiftedGause1D(GEN_COEF,GEN_MU,GEN_SIGMA,GEN_LEN)\r\n",
    "x = gen_gauss.x\r\n",
    "y = gen_gauss.gen_signal()\r\n",
    "\r\n",
    "plt.scatter(x,y)\r\n",
    "plt.show()"
   ]
  },
  {
   "cell_type": "code",
   "execution_count": 1,
   "metadata": {},
   "outputs": [],
   "source": [
    "from abc import ABCMeta, abstractmethod"
   ]
  },
  {
   "cell_type": "code",
   "execution_count": 10,
   "metadata": {},
   "outputs": [
    {
     "name": "stdout",
     "output_type": "stream",
     "text": [
      "init-base\n",
      "init-sub\n",
      "hello\n",
      "1\n",
      "baseExe!\n",
      "hello\n",
      "1\n"
     ]
    },
    {
     "ename": "TypeError",
     "evalue": "Can't instantiate abstract class baseTest with abstract methods hello",
     "output_type": "error",
     "traceback": [
      "\u001b[1;31m---------------------------------------------------------------------------\u001b[0m",
      "\u001b[1;31mTypeError\u001b[0m                                 Traceback (most recent call last)",
      "\u001b[1;32m<ipython-input-10-75d0d2573974>\u001b[0m in \u001b[0;36m<module>\u001b[1;34m\u001b[0m\n\u001b[0;32m     33\u001b[0m \u001b[0ma\u001b[0m\u001b[1;33m.\u001b[0m\u001b[0mhello\u001b[0m\u001b[1;33m(\u001b[0m\u001b[1;33m)\u001b[0m\u001b[1;33m\u001b[0m\u001b[1;33m\u001b[0m\u001b[0m\n\u001b[0;32m     34\u001b[0m \u001b[0ma\u001b[0m\u001b[1;33m.\u001b[0m\u001b[0mexec\u001b[0m\u001b[1;33m(\u001b[0m\u001b[1;33m)\u001b[0m\u001b[1;33m\u001b[0m\u001b[1;33m\u001b[0m\u001b[0m\n\u001b[1;32m---> 35\u001b[1;33m \u001b[0mb\u001b[0m\u001b[1;33m=\u001b[0m\u001b[0mbaseTest\u001b[0m\u001b[1;33m(\u001b[0m\u001b[1;33m)\u001b[0m\u001b[1;33m\u001b[0m\u001b[1;33m\u001b[0m\u001b[0m\n\u001b[0m",
      "\u001b[1;31mTypeError\u001b[0m: Can't instantiate abstract class baseTest with abstract methods hello"
     ]
    }
   ],
   "source": [
    "#Polymorphism\r\n",
    "\r\n",
    "class baseTest(object,metaclass=ABCMeta):\r\n",
    "    m_p1 = 0\r\n",
    "    m_p2 = 0\r\n",
    "    m_p3 = 0\r\n",
    "    def __init__(self):\r\n",
    "        self.m_p1 = 1\r\n",
    "        self.m_p2 = 1\r\n",
    "        self.m_p3 = 1\r\n",
    "        print(\"init-base\")\r\n",
    "    \r\n",
    "    @abstractmethod\r\n",
    "    def hello(self):\r\n",
    "        print(\"hello from base\")\r\n",
    "\r\n",
    "    def exec(self):\r\n",
    "        print(\"baseExe!\")\r\n",
    "        self.hello()\r\n",
    "\r\n",
    "class ATest(baseTest):\r\n",
    "    m_p4 = 0\r\n",
    "    def __init__(self):\r\n",
    "        super().__init__()\r\n",
    "        self.m_p4 = 1\r\n",
    "        print(\"init-sub\")\r\n",
    "    \r\n",
    "    def hello(self):\r\n",
    "        print(\"hello\")\r\n",
    "        print(str(self.m_p1))\r\n",
    "\r\n",
    "a = ATest()\r\n",
    "a.hello()\r\n",
    "a.exec()\r\n",
    "b=baseTest()"
   ]
  },
  {
   "cell_type": "code",
   "execution_count": 2,
   "metadata": {},
   "outputs": [
    {
     "data": {
      "text/plain": [
       "array([0. , 0. , 0. , 0. , 0. , 0. , 0. , 0.5, 0.5, 0.5, 0.5, 0.5, 0.5,\n",
       "       0. , 0. , 0. , 0. , 0. , 0. , 0. , 0. , 0. , 0. , 0. , 0. , 0. ,\n",
       "       0. , 0. , 0. , 0. , 0. , 0. ])"
      ]
     },
     "execution_count": 2,
     "metadata": {},
     "output_type": "execute_result"
    }
   ],
   "source": [
    "from proc.generater import GaussSignal,NormRectSignal\r\n",
    "#sig = GaussSignal(1.0,5.0,2.0,0.0,10.0)\r\n",
    "sig = NormRectSignal(2.0,2.0,0.0,10.0)\r\n",
    "y = sig.generate()\r\n",
    "y"
   ]
  },
  {
   "cell_type": "code",
   "execution_count": 3,
   "metadata": {},
   "outputs": [
    {
     "data": {
      "image/png": "[encoded data removed]",
      "text/plain": [
       "<Figure size 432x288 with 1 Axes>"
      ]
     },
     "metadata": {
      "needs_background": "light"
     },
     "output_type": "display_data"
    }
   ],
   "source": [
    "import matplotlib.pyplot as plt\r\n",
    "x=sig.m_x\r\n",
    "plt.scatter(x,y)\r\n",
    "plt.show()"
   ]
  },
  {
   "cell_type": "code",
   "execution_count": null,
   "metadata": {},
   "outputs": [],
   "source": []
  }
 ],
 "metadata": {
  "interpreter": {
   "hash": "5e5484132b0d135b4625053f3394654dfc7df22b06191015d8d4bd1b8cd9f89e"
  },
  "kernelspec": {
   "display_name": "Python 3.6.9 64-bit",
   "name": "python3"
  },
  "language_info": {
   "codemirror_mode": {
    "name": "ipython",
    "version": 3
   },
   "file_extension": ".py",
   "mimetype": "text/x-python",
   "name": "python",
   "nbconvert_exporter": "python",
   "pygments_lexer": "ipython3",
   "version": "3.6.10"
  },
  "orig_nbformat": 2
 },
 "nbformat": 4,
 "nbformat_minor": 2
}