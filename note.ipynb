{
 "cells": [
  {
   "cell_type": "markdown",
   "metadata": {},
   "source": [
    "### Code test"
   ]
  },
  {
   "cell_type": "code",
   "execution_count": 2,
   "metadata": {},
   "outputs": [
    {
     "name": "stdout",
     "output_type": "stream",
     "text": [
      "[0 0 1 0 0 1]\n"
     ]
    }
   ],
   "source": [
    "import numpy as np\r\n",
    "s = np.array([0,0,1,0,0,1])\r\n",
    "print(s)\r\n",
    "ndx = np.where(s==0)[0]\r\n",
    "ndx\r\n"
   ]
  },
  {
   "cell_type": "code",
   "execution_count": 1,
   "metadata": {},
   "outputs": [
    {
     "name": "stdout",
     "output_type": "stream",
     "text": [
      "<class 'int'>\n"
     ]
    },
    {
     "data": {
      "image/png": "[encoded data removed]",
      "text/plain": "<Figure size 432x288 with 1 Axes>"
     },
     "metadata": {
      "needs_background": "light"
     },
     "output_type": "display_data"
    }
   ],
   "source": [
    "from proc.generater import *\r\n",
    "import matplotlib.pyplot as plt\r\n",
    "\r\n",
    "GEN_MU = 34\r\n",
    "GEN_SIGMA = 1\r\n",
    "GEN_LEN = 64\r\n",
    "GEN_COEF = 1\r\n",
    "\r\n",
    "gen_gauss = ShiftedGause1D(GEN_COEF,GEN_MU,GEN_SIGMA,GEN_LEN)\r\n",
    "x = gen_gauss.x\r\n",
    "y = gen_gauss.gen_signal()\r\n",
    "\r\n",
    "plt.scatter(x,y)\r\n",
    "plt.show()"
   ]
  },
  {
   "cell_type": "code",
   "execution_count": null,
   "metadata": {},
   "outputs": [],
   "source": []
  }
 ],
 "metadata": {
  "kernelspec": {
   "display_name": "Python 3.6.9 64-bit ('svmtest': conda)",
   "name": "python369jvsc74a57bd05e5484132b0d135b4625053f3394654dfc7df22b06191015d8d4bd1b8cd9f89e"
  },
  "language_info": {
   "codemirror_mode": {
    "name": "ipython",
    "version": 3
   },
   "file_extension": ".py",
   "mimetype": "text/x-python",
   "name": "python",
   "nbconvert_exporter": "python",
   "pygments_lexer": "ipython3",
   "version": "3.6.9"
  },
  "orig_nbformat": 2
 },
 "nbformat": 4,
 "nbformat_minor": 2
}